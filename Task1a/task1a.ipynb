{
 "cells": [
  {
   "cell_type": "markdown",
   "metadata": {},
   "source": [
    "Regression problem solved by linear regression\n",
    "- Cross-validation to determine regularizer"
   ]
  },
  {
   "cell_type": "code",
   "execution_count": 1,
   "metadata": {},
   "outputs": [],
   "source": [
    "import pandas as pd\n",
    "import numpy as np\n",
    "from sklearn import model_selection\n",
    "from sklearn.metrics import mean_squared_error"
   ]
  },
  {
   "cell_type": "code",
   "execution_count": 6,
   "metadata": {},
   "outputs": [],
   "source": [
    "# (final) closed form solution\n",
    "train_df = pd.read_csv('train.csv')\n",
    "X = train_df.drop(columns=['Id','y']).as_matrix()\n",
    "y = train_df['y']\n",
    "lambdas = [0.1, 1, 10, 100, 1000]\n",
    "kf = model_selection.KFold(n_splits=10)\n",
    "result = []\n",
    "for la in lambdas:\n",
    "    RMSE = []\n",
    "    for train_index, test_index in kf.split(X):\n",
    "        X_train, X_test = X[train_index], X[test_index]\n",
    "        y_train, y_test = y[train_index], y[test_index]\n",
    "        w = np.linalg.solve(np.dot(X_train.T,X_train)+la*np.identity(X_train.shape[1]),np.dot(X_train.T,y_train))\n",
    "        y_pred = np.dot(X_test,w)\n",
    "        RMSE.append(mean_squared_error(y_test, y_pred)**0.5)\n",
    "    result.append(np.mean(RMSE))\n",
    "result_df = pd.DataFrame(result)\n",
    "result_df.to_csv('result.csv',index=False,header=False)"
   ]
  },
  {
   "cell_type": "code",
   "execution_count": 3,
   "metadata": {},
   "outputs": [],
   "source": [
    "import pandas as pd\n",
    "import numpy as np\n",
    "from sklearn import linear_model\n",
    "from sklearn import model_selection\n",
    "from sklearn.metrics import mean_squared_error"
   ]
  },
  {
   "cell_type": "code",
   "execution_count": 4,
   "metadata": {},
   "outputs": [],
   "source": [
    "train_df = pd.read_csv('train.csv')\n",
    "X_train = train_df.drop(columns=['Id','y'])\n",
    "y_train = train_df['y']\n",
    "lambdas = [0.1, 1, 10, 100, 1000]\n",
    "result = []\n",
    "for la in lambdas:\n",
    "    reg = linear_model.Ridge(alpha=la)\n",
    "    result.append(np.mean(np.sqrt(-model_selection.cross_val_score(reg,X_train,y_train,cv=10,scoring='neg_mean_squared_error'))))\n",
    "result_df = pd.DataFrame(result)\n",
    "result_df.to_csv('result.csv',index=False,header=False)"
   ]
  },
  {
   "cell_type": "code",
   "execution_count": 5,
   "metadata": {},
   "outputs": [
    {
     "name": "stdout",
     "output_type": "stream",
     "text": [
      "           0\n",
      "0   1.005938\n",
      "1   1.002600\n",
      "2   1.019749\n",
      "3   2.576285\n",
      "4  21.894475\n"
     ]
    }
   ],
   "source": [
    "#alternate solution, probably this is more how we were \"supposed\" to do it\n",
    "train_df = pd.read_csv('train.csv')\n",
    "X = train_df.drop(columns=['Id','y']).as_matrix()\n",
    "y = train_df['y']\n",
    "lambdas = [0.1, 1, 10, 100, 1000]\n",
    "kf = model_selection.KFold(n_splits=10)\n",
    "result = []\n",
    "for la in lambdas:\n",
    "    reg = linear_model.Ridge(alpha=la)\n",
    "    RMSE = []\n",
    "    for train_index, test_index in kf.split(X):\n",
    "        X_train, X_test = X[train_index], X[test_index]\n",
    "        y_train, y_test = y[train_index], y[test_index]\n",
    "        reg.fit(X_train,y_train)\n",
    "        y_pred = reg.predict(X_test)\n",
    "        RMSE.append(mean_squared_error(y_test, y_pred)**0.5)\n",
    "    result.append(np.mean(RMSE))\n",
    "result_df = pd.DataFrame(result)\n",
    "print(result_df)\n",
    "result_df.to_csv('result.csv',index=False,header=False)"
   ]
  },
  {
   "cell_type": "code",
   "execution_count": null,
   "metadata": {},
   "outputs": [],
   "source": []
  }
 ],
 "metadata": {
  "kernelspec": {
   "display_name": "Python 3",
   "language": "python",
   "name": "python3"
  },
  "language_info": {
   "codemirror_mode": {
    "name": "ipython",
    "version": 3
   },
   "file_extension": ".py",
   "mimetype": "text/x-python",
   "name": "python",
   "nbconvert_exporter": "python",
   "pygments_lexer": "ipython3",
   "version": "3.6.4"
  }
 },
 "nbformat": 4,
 "nbformat_minor": 2
}
